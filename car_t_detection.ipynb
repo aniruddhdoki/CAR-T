{
 "cells": [
  {
   "cell_type": "markdown",
   "metadata": {},
   "source": [
    "# CAR-T Sequence Detection in Single-Cell RNA Sequencing Data\n",
    "\n",
    "This notebook provides a workflow for analyzing single-cell RNA sequencing (scRNA-seq) data to detect Chimeric Antigen Receptor (CAR) sequence insertions using the 10x Genomics Cell Ranger pipeline.\n",
    "\n",
    "## Overview\n",
    "\n",
    "CAR-T cell therapy involves genetically modifying T cells to express chimeric antigen receptors (CARs) that target specific antigens on cancer cells. Detecting these CAR sequences in scRNA-seq data is critical for understanding CAR-T cell behaviors, persistence, and effectiveness.\n",
    "\n",
    "This workflow includes:\n",
    "1. Setting up Cell Ranger and dependencies\n",
    "2. Preparing a custom reference that includes the CAR sequence\n",
    "3. Running Cell Ranger for alignment and analysis\n",
    "4. Post-processing to identify and visualize cells containing CAR sequences\n",
    "5. Advanced analysis of CAR-positive cells\n"
   ]
  },
  {
   "cell_type": "markdown",
   "metadata": {},
   "source": [
    "## 1. Environment Setup\n",
    "\n",
    "First, let's set up the necessary Python packages for our analysis."
   ]
  },
  {
   "cell_type": "code",
   "execution_count": null,
   "metadata": {},
   "source": [
    "# Install required packages\n",
    "!pip install scanpy pandas numpy matplotlib seaborn anndata scikit-learn scipy\n",
    "\n",
    "# Import libraries\n",
    "import os\n",
    "import subprocess\n",
    "import pandas as pd\n",
    "import numpy as np\n",
    "import scanpy as sc\n",
    "import matplotlib.pyplot as plt\n",
    "import seaborn as sns\n",
    "from pathlib import Path\n",
    "\n",
    "# Set plotting defaults\n",
    "sc.settings.verbosity = 3\n",
    "sc.settings.set_figure_params(dpi=100, facecolor='white')\n",
    "%matplotlib inline"
   ]
  },
  {
   "cell_type": "markdown",
   "metadata": {},
   "source": [
    "## 2. Cell Ranger Setup\n",
    "\n",
    "Cell Ranger is a set of analysis pipelines from 10x Genomics that processes Chromium single-cell RNA-seq output to align reads, generate feature-barcode matrices, and perform secondary analysis.\n",
    "\n",
    "### 2.1 Download and Install Cell Ranger\n",
    "\n",
    "You'll need to download Cell Ranger from the 10x Genomics website: https://support.10xgenomics.com/single-cell-gene-expression/software/downloads/latest\n",
    "\n",
    "After downloading, you can unpack and set up Cell Ranger as follows:"
   ]
  },
  {
   "cell_type": "code",
   "execution_count": null,
   "metadata": {},
   "source": [
    "# Define the Cell Ranger path - replace with your actual path\n",
    "CELLRANGER_PATH = \"/path/to/cellranger-7.2.0\"\n",
    "\n",
    "# Check if Cell Ranger is properly installed\n",
    "!{CELLRANGER_PATH}/cellranger --help"
   ]
  },
  {
   "cell_type": "markdown",
   "metadata": {},
   "source": [
    "### 2.2 Set up Data Directories\n",
    "\n",
    "Organize your directories for the analysis:"
   ]
  },
  {
   "cell_type": "code",
   "execution_count": null,
   "metadata": {},
   "source": [
    "# Set up directories\n",
    "BASE_DIR = Path(\"./car_t_analysis\")\n",
    "FASTQ_DIR = BASE_DIR / \"fastq\"\n",
    "REFERENCE_DIR = BASE_DIR / \"reference\"\n",
    "OUTPUT_DIR = BASE_DIR / \"results\"\n",
    "\n",
    "# Create directories if they don't exist\n",
    "for dir_path in [BASE_DIR, FASTQ_DIR, REFERENCE_DIR, OUTPUT_DIR]:\n",
    "    dir_path.mkdir(exist_ok=True, parents=True)\n",
    "\n",
    "print(f\"Base directory: {BASE_DIR}\")\n",
    "print(f\"FASTQ directory: {FASTQ_DIR}\")\n",
    "print(f\"Reference directory: {REFERENCE_DIR}\")\n",
    "print(f\"Output directory: {OUTPUT_DIR}\")"
   ]
  },
  {
   "cell_type": "markdown",
   "metadata": {},
   "source": [
    "## 3. Preparing a Custom Reference with CAR Sequence\n",
    "\n",
    "To detect CAR sequences, we need to create a custom reference genome that includes the CAR construct sequence. This involves adding the CAR sequence to the reference transcriptome."
   ]
  },
  {
   "cell_type": "code",
   "execution_count": null,
   "metadata": {},
   "source": [
    "# Define the path to the reference genome and GTF file\n",
    "REF_GENOME = \"path/to/reference/genome.fa\"  # e.g., GRCh38 for human\n",
    "REF_GTF = \"path/to/reference/genes.gtf\"     # Corresponding GTF annotation file\n",
    "\n",
    "# Define the CAR sequence - replace with your specific CAR sequence\n",
    "CAR_SEQUENCE = \"\"\"\n",
    ">CAR_CD19\n",
    "ATGGCCTTACCAGTGACCGCCTTGCTCCTGCCGCTGGCCTTGCTGCTCCACGCCGCCAGGCCGGGATCCCAGGTGCAGCTGCAGGAG...\n",
    "\"\"\"\n",
    "\n",
    "# Create a CAR sequence FASTA file\n",
    "car_fasta_path = REFERENCE_DIR / \"car_sequence.fa\"\n",
    "with open(car_fasta_path, 'w') as f:\n",
    "    f.write(CAR_SEQUENCE)\n",
    "\n",
    "# Create a CAR GTF annotation\n",
    "car_gtf_path = REFERENCE_DIR / \"car_genes.gtf\"\n",
    "car_gtf_content = \"\"\"\n",
    "CAR_CD19\\tunknown\\texon\\t1\\t{0}\\t.\\t+\\t.\\tgene_id \"CAR_CD19\"; transcript_id \"CAR_CD19\"; gene_name \"CAR_CD19\";\n",
    "\"\"\".format(len(CAR_SEQUENCE.split('\\n')[1]))\n",
    "\n",
    "with open(car_gtf_path, 'w') as f:\n",
    "    f.write(car_gtf_content)\n",
    "\n",
    "print(f\"CAR sequence saved to: {car_fasta_path}\")\n",
    "print(f\"CAR GTF annotation saved to: {car_gtf_path}\")"
   ]
  },
  {
   "cell_type": "markdown",
   "metadata": {},
   "source": [
    "### 3.1 Merge CAR Sequence with Reference Genome\n",
    "\n",
    "Next, we'll merge the CAR sequence with the reference genome and GTF files."
   ]
  },
  {
   "cell_type": "code",
   "execution_count": null,
   "metadata": {},
   "source": [
    "# Combine the reference genome with CAR sequence\n",
    "combined_fasta = REFERENCE_DIR / \"combined_reference.fa\"\n",
    "combined_gtf = REFERENCE_DIR / \"combined_reference.gtf\"\n",
    "\n",
    "# Cat commands to combine files\n",
    "!cat {REF_GENOME} {car_fasta_path} > {combined_fasta}\n",
    "!cat {REF_GTF} {car_gtf_path} > {combined_gtf}\n",
    "\n",
    "print(f\"Combined reference genome saved to: {combined_fasta}\")\n",
    "print(f\"Combined GTF annotation saved to: {combined_gtf}\")"
   ]
  },
  {
   "cell_type": "markdown",
   "metadata": {},
   "source": [
    "### 3.2 Build Custom Reference with Cell Ranger\n",
    "\n",
    "Now we'll use Cell Ranger's `mkref` command to create a custom reference package."
   ]
  },
  {
   "cell_type": "code",
   "execution_count": null,
   "metadata": {},
   "source": [
    "# Build custom reference with Cell Ranger\n",
    "custom_reference_dir = REFERENCE_DIR / \"custom_reference\"\n",
    "\n",
    "!{CELLRANGER_PATH}/cellranger mkref \\\n",
    "    --genome=car_t_reference \\\n",
    "    --fasta={combined_fasta} \\\n",
    "    --genes={combined_gtf} \\\n",
    "    --nthreads=8 \\\n",
    "    --output-dir={custom_reference_dir}\n",
    "\n",
    "print(f\"Custom reference built at: {custom_reference_dir}\")"
   ]
  },
  {
   "cell_type": "markdown",
   "metadata": {},
   "source": [
    "## 4. Running Cell Ranger Count\n",
    "\n",
    "Now we'll run Cell Ranger's `count` command to process the FASTQ files and align them to our custom reference."
   ]
  },
  {
   "cell_type": "code",
   "execution_count": null,
   "metadata": {},
   "source": [
    "# Define sample name and FASTQ path\n",
    "SAMPLE_NAME = \"car_t_sample\"  # Replace with your sample name\n",
    "FASTQ_PATH = str(FASTQ_DIR)   # Path to directory containing FASTQ files\n",
    "\n",
    "# Run Cell Ranger count\n",
    "!{CELLRANGER_PATH}/cellranger count \\\n",
    "    --id={SAMPLE_NAME} \\\n",
    "    --transcriptome={custom_reference_dir} \\\n",
    "    --fastqs={FASTQ_PATH} \\\n",
    "    --sample={SAMPLE_NAME} \\\n",
    "    --expect-cells=5000 \\\n",
    "    --localcores=8 \\\n",
    "    --localmem=64\n",
    "\n",
    "# Copy output to results directory\n",
    "!cp -r {SAMPLE_NAME} {OUTPUT_DIR}/\n",
    "\n",
    "print(f\"Cell Ranger count completed for sample: {SAMPLE_NAME}\")\n",
    "print(f\"Results saved to: {OUTPUT_DIR}/{SAMPLE_NAME}\")"
   ]
  },
  {
   "cell_type": "markdown",
   "metadata": {},
   "source": [
    "## 5. Analysis of Cell Ranger Results\n",
    "\n",
    "Now we'll analyze the Cell Ranger results to identify cells with CAR sequences."
   ]
  },
  {
   "cell_type": "code",
   "execution_count": null,
   "metadata": {},
   "source": [
    "# Load the Cell Ranger output\n",
    "results_dir = OUTPUT_DIR / SAMPLE_NAME / \"outs\" / \"filtered_feature_bc_matrix\"\n",
    "adata = sc.read_10x_mtx(results_dir, var_names='gene_symbols', cache=True)\n",
    "\n",
    "# Basic QC and filtering\n",
    "sc.pp.calculate_qc_metrics(adata, inplace=True)\n",
    "print(f\"Loaded data with {adata.shape[0]} cells and {adata.shape[1]} genes\")\n",
    "\n",
    "# View the AnnData object\n",
    "adata"
   ]
  },
  {
   "cell_type": "markdown",
   "metadata": {},
   "source": [
    "### 5.1 Identify Cells with CAR Expression"
   ]
  },
  {
   "cell_type": "code",
   "execution_count": null,
   "metadata": {},
   "source": [
    "# Check if CAR gene is in the dataset\n",
    "if 'CAR_CD19' in adata.var_names:\n",
    "    print(\"CAR_CD19 found in the dataset\")\n",
    "    \n",
    "    # Identify cells expressing CAR\n",
    "    car_counts = adata[:, 'CAR_CD19'].X.toarray().flatten()\n",
    "    adata.obs['car_counts'] = car_counts\n",
    "    adata.obs['car_positive'] = adata.obs['car_counts'] > 0\n",
    "    \n",
    "    # Count of CAR-positive cells\n",
    "    car_positive_count = adata.obs['car_positive'].sum()\n",
    "    car_positive_percent = (car_positive_count / adata.shape[0]) * 100\n",
    "    \n",
    "    print(f\"CAR-positive cells: {car_positive_count} ({car_positive_percent:.2f}%)\")\n",
    "else:\n",
    "    print(\"CAR_CD19 not found in the dataset. Check your reference and sequence names.\")"
   ]
  },
  {
   "cell_type": "markdown",
   "metadata": {},
   "source": [
    "### 5.2 Visualize CAR Expression"
   ]
  },
  {
   "cell_type": "code",
   "execution_count": null,
   "metadata": {},
   "source": [
    "# Process the data for visualization\n",
    "sc.pp.normalize_total(adata, target_sum=1e4)\n",
    "sc.pp.log1p(adata)\n",
    "sc.pp.highly_variable_genes(adata, min_mean=0.0125, max_mean=3, min_disp=0.5)\n",
    "sc.pp.pca(adata, n_comps=50, use_highly_variable=True)\n",
    "sc.pp.neighbors(adata, n_neighbors=10, n_pcs=40)\n",
    "sc.tl.umap(adata)\n",
    "sc.tl.leiden(adata, resolution=0.5)\n",
    "\n",
    "# Plot UMAP with CAR expression\n",
    "plt.figure(figsize=(12, 5))\n",
    "\n",
    "plt.subplot(1, 2, 1)\n",
    "sc.pl.umap(adata, color='car_positive', title='CAR-positive cells', show=False)\n",
    "\n",
    "plt.subplot(1, 2, 2)\n",
    "if 'CAR_CD19' in adata.var_names:\n",
    "    sc.pl.umap(adata, color='CAR_CD19', title='CAR expression level', show=False)\n",
    "else:\n",
    "    plt.title('CAR gene not found')\n",
    "    \n",
    "plt.tight_layout()\n",
    "plt.show()"
   ]
  },
  {
   "cell_type": "markdown",
   "metadata": {},
   "source": [
    "### 5.3 Analyze Expression Patterns in CAR-Positive vs. CAR-Negative Cells"
   ]
  },
  {
   "cell_type": "code",
   "execution_count": null,
   "metadata": {},
   "source": [
    "# Perform differential expression analysis between CAR+ and CAR- cells\n",
    "if 'car_positive' in adata.obs.columns:\n",
    "    sc.tl.rank_genes_groups(adata, groupby='car_positive', method='wilcoxon')\n",
    "    sc.pl.rank_genes_groups(adata, n_genes=25, sharey=False, figsize=(12, 5))\n",
    "    \n",
    "    # Extract results to a DataFrame\n",
    "    result = adata.uns['rank_genes_groups']\n",
    "    groups = result['names'].dtype.names\n",
    "    \n",
    "    # Get differential expression results for CAR-positive group\n",
    "    if 'True' in groups:\n",
    "        de_genes = pd.DataFrame({\n",
    "            'names': result['names']['True'],\n",
    "            'scores': result['scores']['True'],\n",
    "            'pvals': result['pvals']['True'],\n",
    "            'pvals_adj': result['pvals_adj']['True'],\n",
    "            'logfoldchanges': result['logfoldchanges']['True']\n",
    "        })\n",
    "        \n",
    "        print(\"Top differentially expressed genes in CAR-positive cells:\")\n",
    "        display(de_genes.head(10))\n",
    "else:\n",
    "    print(\"CAR expression data not available.\")"
   ]
  },
  {
   "cell_type": "markdown",
   "metadata": {},
   "source": [
    "### 5.4 Cell Type Annotation and CAR Expression"
   ]
  },
  {
   "cell_type": "code",
   "execution_count": null,
   "metadata": {},
   "source": [
    "# Define marker genes for T cell subsets\n",
    "t_cell_markers = {\n",
    "    'CD4+ T': ['CD4', 'IL7R'],\n",
    "    'CD8+ T': ['CD8A', 'CD8B'],\n",
    "    'Regulatory T': ['FOXP3', 'IL2RA'],\n",
    "    'Naive T': ['CCR7', 'LEF1', 'TCF7'],\n",
    "    'Memory T': ['IL7R', 'S100A4'],\n",
    "    'Effector T': ['GZMA', 'GZMB', 'PRF1'],\n",
    "    'Exhausted T': ['PDCD1', 'HAVCR2', 'LAG3', 'TIGIT']\n",
    "}\n",
    "\n",
    "# Check for marker genes in the dataset\n",
    "for cell_type, markers in t_cell_markers.items():\n",
    "    present_markers = [m for m in markers if m in adata.var_names]\n",
    "    if present_markers:\n",
    "        print(f\"{cell_type}: {len(present_markers)}/{len(markers)} markers found\")\n",
    "    else:\n",
    "        print(f\"{cell_type}: No markers found\")\n",
    "\n",
    "# Score cells for T cell subsets\n",
    "for cell_type, markers in t_cell_markers.items():\n",
    "    markers_in_data = [m for m in markers if m in adata.var_names]\n",
    "    if markers_in_data:\n",
    "        sc.tl.score_genes(adata, markers_in_data, score_name=f'{cell_type}_score')\n",
    "\n",
    "# Visualize T cell subset scores and CAR expression\n",
    "score_cols = [k for k in adata.obs.columns if k.endswith('_score')]\n",
    "if score_cols:\n",
    "    sc.pl.umap(adata, color=score_cols, ncols=3, cmap='viridis')\n",
    "    \n",
    "    # Compare CAR expression across different T cell subsets\n",
    "    if 'car_positive' in adata.obs.columns:\n",
    "        for score in score_cols:\n",
    "            plt.figure(figsize=(10, 6))\n",
    "            sns.boxplot(x='car_positive', y=score, data=adata.obs)\n",
    "            plt.title(f'{score} by CAR expression')\n",
    "            plt.xlabel('CAR positive')\n",
    "            plt.ylabel('Score')\n",
    "            plt.show()"
   ]
  },
  {
   "cell_type": "markdown",
   "metadata": {},
   "source": [
    "### 5.5 Save Results"
   ]
  },
  {
   "cell_type": "code",
   "execution_count": null,
   "metadata": {},
   "source": [
    "# Save the analyzed data\n",
    "results_file = OUTPUT_DIR / f\"{SAMPLE_NAME}_analyzed.h5ad\"\n",
    "adata.write(results_file)\n",
    "\n",
    "# Export CAR-positive cells to CSV\n",
    "if 'car_positive' in adata.obs.columns:\n",
    "    car_positive_cells = adata.obs[adata.obs['car_positive']].copy()\n",
    "    car_positive_file = OUTPUT_DIR / f\"{SAMPLE_NAME}_car_positive_cells.csv\"\n",
    "    car_positive_cells.to_csv(car_positive_file)\n",
    "    print(f\"CAR-positive cell information saved to: {car_positive_file}\")\n",
    "\n",
    "print(f\"Analysis complete. Results saved to: {results_file}\")"
   ]
  },
  {
   "cell_type": "markdown",
   "metadata": {},
   "source": [
    "## 6. Summary and Next Steps\n",
    "\n",
    "In this notebook, we have:\n",
    "1. Set up a custom reference genome with the CAR sequence\n",
    "2. Processed single-cell RNA-seq data using Cell Ranger\n",
    "3. Identified cells expressing the CAR construct\n",
    "4. Analyzed the transcriptional profiles of CAR-positive vs. CAR-negative cells\n",
    "5. Examined T cell subset distributions in relation to CAR expression\n",
    "\n",
    "### Next Steps:\n",
    "\n",
    "1. **Deeper Phenotyping**: Further analyze the transcriptional profiles of CAR-T cells to understand their functional state (e.g., activation, exhaustion)\n",
    "2. **Clonotype Analysis**: If TCR sequencing data is available, link CAR expression with specific T cell clonotypes\n",
    "3. **Trajectory Analysis**: Perform pseudotime analysis to understand the developmental trajectories of CAR-T cells\n",
    "4. **Integration with Other Samples**: Compare CAR-T transcriptional profiles across different patients or timepoints\n",
    "5. **Advanced Visualizations**: Create publication-quality figures of CAR-T cell characteristics\n",
    "\n",
    "### Conclusion\n",
    "\n",
    "This workflow provides a foundation for detecting and analyzing CAR-expressing cells in single-cell RNA sequencing data. By incorporating the CAR sequence into the reference genome, we can accurately identify cells that have successfully integrated the CAR construct and analyze their transcriptional profiles."
   ]
  }
 ],
 "metadata": {
  "kernelspec": {
   "display_name": "Python 3",
   "language": "python",
   "name": "python3"
  },
  "language_info": {
   "codemirror_mode": {
    "name": "ipython",
    "version": 3
   },
   "file_extension": ".py",
   "mimetype": "text/x-python",
   "name": "python",
   "nbconvert_exporter": "python",
   "pygments_lexer": "ipython3",
   "version": "3.8.10"
  }
 },
 "nbformat": 4,
 "nbformat_minor": 4
}